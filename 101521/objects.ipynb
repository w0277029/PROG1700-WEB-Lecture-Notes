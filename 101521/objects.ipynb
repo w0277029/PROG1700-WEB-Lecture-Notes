{
 "cells": [
  {
   "cell_type": "code",
   "execution_count": 1,
   "metadata": {},
   "outputs": [
    {
     "name": "stdout",
     "output_type": "stream",
     "text": [
      "{\n",
      "  w0123456: 'Jane Doe',\n",
      "  w0111111: 'John Smith',\n",
      "  w0222222: 'Jack Sprat'\n",
      "}\n"
     ]
    }
   ],
   "source": [
    "// create an object\n",
    "\n",
    "var students = { 'w0123456' : 'Jane Doe', 'w0111111' : 'John Smith', 'w0222222' : 'Jack Sprat'}\n",
    "\n",
    "console.log(students)"
   ]
  },
  {
   "cell_type": "code",
   "execution_count": 3,
   "metadata": {},
   "outputs": [
    {
     "name": "stdout",
     "output_type": "stream",
     "text": [
      "red\n",
      "green\n"
     ]
    }
   ],
   "source": [
    "// access an element\n",
    "\n",
    "var object = { 'apple':'red', 'orange':'orange', 'banana':'yellow'}\n",
    "console.log(object['apple'])\n",
    "\n",
    "object['apple'] = 'green'\n",
    "console.log(object.apple)\n"
   ]
  },
  {
   "cell_type": "code",
   "execution_count": 4,
   "metadata": {},
   "outputs": [
    {
     "name": "stdout",
     "output_type": "stream",
     "text": [
      "2\n"
     ]
    }
   ],
   "source": [
    "// objects can contain anything as a value\n",
    "\n",
    "var object = { string : 'a string value', number : 12345, array : [ 1, 2, 3, 4, 5], object2 : { a : 1, b : 2, c : 3 } }\n",
    "\n",
    "console.log(object.object2.b)"
   ]
  },
  {
   "cell_type": "code",
   "execution_count": 5,
   "metadata": {},
   "outputs": [
    {
     "data": {
      "text/plain": [
       "{ apple: 'red', orange: 'orange', banana: 'yellow', strawberry: 'red' }"
      ]
     },
     "execution_count": 5,
     "metadata": {},
     "output_type": "execute_result"
    }
   ],
   "source": [
    "// to add elements to an object\n",
    "var object = { 'apple':'red', 'orange':'orange', 'banana':'yellow'}\n",
    "object['strawberry'] = 'red'\n",
    "\n",
    "object"
   ]
  },
  {
   "cell_type": "code",
   "execution_count": 6,
   "metadata": {},
   "outputs": [
    {
     "data": {
      "text/plain": [
       "{ orange: 'orange', banana: 'yellow' }"
      ]
     },
     "execution_count": 6,
     "metadata": {},
     "output_type": "execute_result"
    }
   ],
   "source": [
    "// to remove an element from an object\n",
    "var object = { 'apple':'red', 'orange':'orange', 'banana':'yellow'}\n",
    "\n",
    "delete object['apple']\n",
    "\n",
    "object"
   ]
  },
  {
   "cell_type": "code",
   "execution_count": 9,
   "metadata": {},
   "outputs": [
    {
     "name": "stdout",
     "output_type": "stream",
     "text": [
      "1\n",
      "2\n",
      "3\n",
      "4\n"
     ]
    }
   ],
   "source": [
    "// iterating over elements\n",
    "\n",
    "var obj = { a:1, b:2, c:3, d:4 }\n",
    "\n",
    "for (const key in obj) {\n",
    "    console.log(obj[key])\n",
    "}"
   ]
  },
  {
   "cell_type": "code",
   "execution_count": null,
   "metadata": {},
   "outputs": [],
   "source": []
  }
 ],
 "metadata": {
  "kernelspec": {
   "display_name": "Javascript (Node.js)",
   "language": "javascript",
   "name": "javascript"
  },
  "language_info": {
   "file_extension": ".js",
   "mimetype": "application/javascript",
   "name": "javascript",
   "version": "16.9.1"
  },
  "orig_nbformat": 4
 },
 "nbformat": 4,
 "nbformat_minor": 2
}
