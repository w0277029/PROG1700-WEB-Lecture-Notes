{
 "cells": [
  {
   "cell_type": "code",
   "execution_count": 5,
   "metadata": {},
   "outputs": [
    {
     "data": {
      "text/plain": [
       "34"
      ]
     },
     "execution_count": 5,
     "metadata": {},
     "output_type": "execute_result"
    }
   ],
   "source": [
    "// simple array creation with values\n",
    "var grades = [ 12, 34, 45, 56, 67, 78 ]\n",
    "grades[1]"
   ]
  },
  {
   "cell_type": "code",
   "execution_count": 3,
   "metadata": {},
   "outputs": [
    {
     "data": {
      "text/plain": [
       "[]"
      ]
     },
     "execution_count": 3,
     "metadata": {},
     "output_type": "execute_result"
    }
   ],
   "source": [
    "// empty array\n",
    "var empty = []\n",
    "emptyfirstfirstfirstfirst"
   ]
  },
  {
   "cell_type": "code",
   "execution_count": 6,
   "metadata": {},
   "outputs": [
    {
     "data": {
      "text/plain": [
       "56"
      ]
     },
     "execution_count": 6,
     "metadata": {},
     "output_type": "execute_result"
    }
   ],
   "source": [
    "// to access an element\n",
    "grades[3]"
   ]
  },
  {
   "cell_type": "code",
   "execution_count": 7,
   "metadata": {},
   "outputs": [
    {
     "data": {
      "text/plain": [
       "[ 12, 34, 99, 56, 67, 78 ]"
      ]
     },
     "execution_count": 7,
     "metadata": {},
     "output_type": "execute_result"
    }
   ],
   "source": [
    "// to change a value\n",
    "grades[2] = 99\n",
    "grades"
   ]
  },
  {
   "cell_type": "code",
   "execution_count": 9,
   "metadata": {},
   "outputs": [
    {
     "name": "stdout",
     "output_type": "stream",
     "text": [
      "12\n",
      "56\n",
      "78\n"
     ]
    }
   ],
   "source": [
    "// access valid elements\n",
    "console.log(grades[0])\n",
    "console.log(grades[3])\n",
    "console.log(grades[5])"
   ]
  },
  {
   "cell_type": "code",
   "execution_count": 11,
   "metadata": {},
   "outputs": [
    {
     "name": "stdout",
     "output_type": "stream",
     "text": [
      "undefined\n"
     ]
    }
   ],
   "source": [
    "// access invalid elements gives 'undefined'\n",
    "console.log(grades[22])"
   ]
  },
  {
   "cell_type": "code",
   "execution_count": 12,
   "metadata": {},
   "outputs": [
    {
     "data": {
      "text/plain": [
       "6"
      ]
     },
     "execution_count": 12,
     "metadata": {},
     "output_type": "execute_result"
    }
   ],
   "source": [
    "// to display the size of the array\n",
    "grades.length"
   ]
  },
  {
   "cell_type": "code",
   "execution_count": 14,
   "metadata": {},
   "outputs": [
    {
     "name": "stdout",
     "output_type": "stream",
     "text": [
      "12\n",
      "34\n",
      "99\n",
      "56\n",
      "67\n",
      "78\n"
     ]
    }
   ],
   "source": [
    "// to display all elements of an array\n",
    "for (var i = 0; i < grades.length; i++) {\n",
    "    console.log(grades[i])\n",
    "}"
   ]
  },
  {
   "cell_type": "code",
   "execution_count": 15,
   "metadata": {},
   "outputs": [
    {
     "name": "stdout",
     "output_type": "stream",
     "text": [
      "12\n",
      "34\n",
      "99\n",
      "56\n",
      "67\n",
      "78\n"
     ]
    }
   ],
   "source": [
    "// newer method to access all elements in an array\n",
    "for (var grade of grades) {\n",
    "    console.log(grade)\n",
    "}"
   ]
  },
  {
   "cell_type": "code",
   "execution_count": 21,
   "metadata": {},
   "outputs": [
    {
     "name": "stdout",
     "output_type": "stream",
     "text": [
      "[\n",
      "  12, 34, 99, 56, 67,\n",
      "  78, 99, 99, 99, 99\n",
      "]\n",
      "[\n",
      "  12, 34, 99, 56, 67,\n",
      "  78, 99, 99, 99, 99,\n",
      "  99\n",
      "]\n",
      "11\n"
     ]
    }
   ],
   "source": [
    "// to add elements to an array\n",
    "console.log(grades)\n",
    "grades.push(99)\n",
    "console.log(grades)\n",
    "console.log(grades.length)"
   ]
  },
  {
   "cell_type": "code",
   "execution_count": 22,
   "metadata": {},
   "outputs": [
    {
     "name": "stdout",
     "output_type": "stream",
     "text": [
      "[ 1, 2, 3, 4, 5 ]\n",
      "[ 0, 1, 2, 3, 4, 5 ]\n",
      "6\n"
     ]
    }
   ],
   "source": [
    "// to add elements to the beginning of the array\n",
    "var grades = [ 1, 2, 3, 4, 5 ]\n",
    "console.log(grades)\n",
    "grades.unshift(0)\n",
    "console.log(grades)\n",
    "console.log(grades.length)"
   ]
  },
  {
   "cell_type": "code",
   "execution_count": 24,
   "metadata": {},
   "outputs": [
    {
     "name": "stdout",
     "output_type": "stream",
     "text": [
      "[ 1, 2, 3, 4, 5 ]\n",
      "[ 1, 2, 3, 4 ]\n",
      "5\n"
     ]
    }
   ],
   "source": [
    "// to remove an element from the end of an array\n",
    "var grades = [ 1, 2, 3, 4, 5 ]\n",
    "console.log(grades)\n",
    "var last = grades.pop()\n",
    "console.log(grades)\n",
    "console.log(last)\n"
   ]
  },
  {
   "cell_type": "code",
   "execution_count": 25,
   "metadata": {},
   "outputs": [
    {
     "name": "stdout",
     "output_type": "stream",
     "text": [
      "[ 1, 2, 3, 4, 5 ]\n",
      "[ 2, 3, 4, 5 ]\n",
      "1\n"
     ]
    }
   ],
   "source": [
    "// to remove an element from the start of an array\n",
    "var grades = [ 1, 2, 3, 4, 5 ]\n",
    "console.log(grades)\n",
    "var first = grades.shift()\n",
    "console.log(grades)\n",
    "console.log(first)"
   ]
  },
  {
   "cell_type": "code",
   "execution_count": 28,
   "metadata": {},
   "outputs": [
    {
     "name": "stdout",
     "output_type": "stream",
     "text": [
      "3\n",
      "5\n",
      "3\n"
     ]
    }
   ],
   "source": [
    "// to find an element in an array\n",
    "var names = [ 'John', 'Jim', 'Jane', 'Geoff', 'Jill', 'Geoff' ]\n",
    "\n",
    "// long way\n",
    "for (var i = 0; i < names.length; i++) {\n",
    "\tif (names[i] === 'Geoff') {\n",
    "\t\tconsole.log(i)\n",
    "\t}\n",
    "}\n",
    "\n",
    "// short way\n",
    "console.log(names.indexOf('Geoff'))\n"
   ]
  },
  {
   "cell_type": "code",
   "execution_count": 31,
   "metadata": {},
   "outputs": [
    {
     "name": "stdout",
     "output_type": "stream",
     "text": [
      "[ 'Geoff', 'Jill', 'Geoff', 'Jane', 'Jim', 'John' ]\n",
      "[ 'Geoff', 'Jill', 'Geoff', 'Jane', 'Jim', 'John' ]\n",
      "[ 'John', 'Jim', 'Jane', 'Geoff', 'Jill', 'Geoff' ]\n",
      "[ 'John', 'Jim', 'Jane', 'Geoff', 'Jill', 'Geoff' ]\n"
     ]
    }
   ],
   "source": [
    "// to reverse the elements in an array\n",
    "var names = [ 'John', 'Jim', 'Jane', 'Geoff', 'Jill', 'Geoff' ]\n",
    "\n",
    "console.log(names.reverse())\n",
    "console.log(names)\n",
    "console.log(names.reverse())\n",
    "console.log(names)"
   ]
  },
  {
   "cell_type": "code",
   "execution_count": 37,
   "metadata": {},
   "outputs": [
    {
     "data": {
      "text/plain": [
       "'Biff'"
      ]
     },
     "execution_count": 37,
     "metadata": {},
     "output_type": "execute_result"
    }
   ],
   "source": [
    "// multidimensional array\n",
    "var studentInfo = [\n",
    "\t[[\"John Doe\", \"Biff\", \"Killer\"] , \"W123456\"], [\"PROG1700\", \"DBAS1700\", \"NETW1200\"]\n",
    "]\n",
    "studentInfo[0][0][1]"
   ]
  },
  {
   "cell_type": "code",
   "execution_count": 42,
   "metadata": {},
   "outputs": [
    {
     "name": "stdout",
     "output_type": "stream",
     "text": [
      "[ 1, 2, 3, 4 ]\n",
      "[ 1, 2, 3, 4, 5 ]\n",
      "[ 1, 2, 3, 4 ]\n",
      "[ 3, 4, 5 ]\n"
     ]
    }
   ],
   "source": [
    "// slicing\n",
    "var nums = [1, 2, 3, 4, 5]\n",
    "\n",
    "console.log(nums.slice(0, 4))\n",
    "console.log(nums)\n",
    "\n",
    "var smaller = nums.slice(0, 4)\n",
    "console.log(smaller)\n",
    "\n",
    "var latterHalf = nums.slice(2)\n",
    "console.log(latterHalf)"
   ]
  },
  {
   "cell_type": "code",
   "execution_count": 47,
   "metadata": {},
   "outputs": [
    {
     "name": "stdout",
     "output_type": "stream",
     "text": [
      "3\n",
      "12345\n",
      "123456789\n"
     ]
    }
   ],
   "source": [
    "// strings as arrays\n",
    "var str = \"123456789\"\n",
    "console.log(str[2])\n",
    "console.log(str.slice(0,5))\n",
    "str[0] = '0'\n",
    "console.log(str)"
   ]
  },
  {
   "cell_type": "markdown",
   "metadata": {},
   "source": []
  },
  {
   "cell_type": "code",
   "execution_count": 51,
   "metadata": {},
   "outputs": [
    {
     "name": "stdout",
     "output_type": "stream",
     "text": [
      "Hello World\n",
      "[\n",
      "  'X', 'e', 'l', 'l',\n",
      "  'o', ' ', 'W', 'o',\n",
      "  'r', 'l', 'd'\n",
      "]\n",
      "X-e-l-l-o- -W-o-r-l-d\n"
     ]
    }
   ],
   "source": [
    "// changing a string to an array\n",
    "var str = \"Hello World\"\n",
    "var array = Array.from(str)\n",
    "str[0] = 'X' // doesn't do anything\n",
    "console.log(str)\n",
    "array[0] = 'X' // this works!\n",
    "console.log(array)\n",
    "\n",
    "// convert array back to string separated by dashes\n",
    "var str2 = array.join('-')\n",
    "console.log(str2)"
   ]
  },
  {
   "cell_type": "code",
   "execution_count": 56,
   "metadata": {},
   "outputs": [
    {
     "name": "stdout",
     "output_type": "stream",
     "text": [
      "elppA\n",
      "[ 'e', 'l', 'p', 'p', 'A' ]\n",
      "elppA\n"
     ]
    }
   ],
   "source": [
    "// challenge\n",
    "\n",
    "// Create a program that takes a word or phrase, input from the user, and displays the reverse of that input.\n",
    "// E.g.\n",
    "// Apple => elppA\n",
    "\n",
    "var userInput = \"Apple\"\n",
    "\n",
    "// long way\n",
    "var reversed = \"\"\n",
    "for (let i = userInput.length - 1; i >= 0 ; i--) {\n",
    "    reversed += userInput[i]\n",
    "}\n",
    "console.log(reversed)\n",
    "\n",
    "// shorter way\n",
    "var array = Array.from(userInput)\n",
    "var reversed = array.reverse().join('')\n",
    "console.log(array)\n",
    "console.log(reversed)"
   ]
  },
  {
   "cell_type": "code",
   "execution_count": 66,
   "metadata": {},
   "outputs": [
    {
     "name": "stdout",
     "output_type": "stream",
     "text": [
      "Alppe\n"
     ]
    }
   ],
   "source": [
    "// extra challenge\n",
    "// As an extra challenge, reverse everything except the first and last letters.\n",
    "// e.g.\n",
    "//   Apple => Alppe\n",
    "\n",
    "var userInput = \"Apple\"\n",
    "\n",
    "var array = Array.from(userInput)\n",
    "\n",
    "var middle = array.slice(1,-1)\n",
    "var middleString = middle.reverse().join('')\n",
    "\n",
    "console.log(array[0] + middleString + array[array.length-1])"
   ]
  },
  {
   "cell_type": "code",
   "execution_count": 69,
   "metadata": {},
   "outputs": [
    {
     "name": "stdout",
     "output_type": "stream",
     "text": [
      "2 3 4\n"
     ]
    }
   ],
   "source": [
    "// destructuring an array\n",
    "\n",
    "var a = 1\n",
    "var b = 2\n",
    "var c = 3\n",
    "\n",
    "var array = [a, b, c]\n",
    "\n",
    "// add one to each element\n",
    "for (var i = 0; i < array.length; i++) {\n",
    "    array[i]++;\n",
    "}\n",
    "\n",
    "[a, b, c] = array\n",
    "\n",
    "console.log(a, b, c)"
   ]
  },
  {
   "cell_type": "code",
   "execution_count": 73,
   "metadata": {},
   "outputs": [
    {
     "ename": "SyntaxError",
     "evalue": "Rest element must be last element",
     "output_type": "error",
     "traceback": [
      "evalmachine.<anonymous>:18",
      "var [a, ...b, c] = array",
      "        ^^^^",
      "",
      "SyntaxError: Rest element must be last element",
      "    at new Script (node:vm:100:7)",
      "    at createScript (node:vm:257:10)",
      "    at Object.runInThisContext (node:vm:305:10)",
      "    at run ([eval]:1054:15)",
      "    at onRunRequest ([eval]:888:18)",
      "    at onMessage ([eval]:848:13)",
      "    at process.emit (node:events:394:28)",
      "    at emit (node:internal/child_process:917:12)",
      "    at processTicksAndRejections (node:internal/process/task_queues:84:21)"
     ]
    }
   ],
   "source": [
    "// destructuring large array to few variables\n",
    "var array = [1, 2, 3, 4, 5]\n",
    "\n",
    "var [a, b, c] = array\n",
    "console.log(a)\n",
    "console.log(b)\n",
    "console.log(c)\n",
    "\n",
    "console.log(\"_\".repeat(10))\n",
    "\n",
    "var [a, b, ...c] = array\n",
    "console.log(a)\n",
    "console.log(b)\n",
    "console.log(c)\n",
    "\n",
    "console.log(\"_\".repeat(10))\n",
    "\n",
    "// you must have the ellipsis on the last element\n",
    "var [a, ...b, c] = array\n",
    "console.log(a)\n",
    "console.log(b)\n",
    "console.log(c)"
   ]
  },
  {
   "cell_type": "code",
   "execution_count": null,
   "metadata": {},
   "outputs": [],
   "source": []
  }
 ],
 "metadata": {
  "kernelspec": {
   "display_name": "Javascript (Node.js)",
   "language": "javascript",
   "name": "javascript"
  },
  "language_info": {
   "file_extension": ".js",
   "mimetype": "application/javascript",
   "name": "javascript",
   "version": "16.9.1"
  },
  "orig_nbformat": 4
 },
 "nbformat": 4,
 "nbformat_minor": 2
}
