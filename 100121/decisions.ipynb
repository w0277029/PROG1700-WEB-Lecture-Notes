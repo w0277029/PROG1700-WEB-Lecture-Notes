{
 "cells": [
  {
   "cell_type": "code",
   "execution_count": 1,
   "source": [
    "true"
   ],
   "outputs": [
    {
     "output_type": "execute_result",
     "data": {
      "text/plain": [
       "true"
      ]
     },
     "metadata": {},
     "execution_count": 1
    }
   ],
   "metadata": {}
  },
  {
   "cell_type": "code",
   "execution_count": 2,
   "source": [
    "false"
   ],
   "outputs": [
    {
     "output_type": "execute_result",
     "data": {
      "text/plain": [
       "false"
      ]
     },
     "metadata": {},
     "execution_count": 2
    }
   ],
   "metadata": {}
  },
  {
   "cell_type": "code",
   "execution_count": 3,
   "source": [
    "var myBoolean = true\r\n",
    "console.log(myBoolean)"
   ],
   "outputs": [
    {
     "output_type": "stream",
     "name": "stdout",
     "text": [
      "true\n"
     ]
    }
   ],
   "metadata": {}
  },
  {
   "cell_type": "code",
   "execution_count": 4,
   "source": [
    "// not a boolean\r\n",
    "var yesString = \"yes\"\r\n",
    "var noNumber = 1"
   ],
   "outputs": [],
   "metadata": {}
  },
  {
   "cell_type": "code",
   "execution_count": 1,
   "source": [
    "// simple expressions\r\n",
    "console.log(\"2 > 3 =\", 2 > 3)\r\n",
    "console.log(\"2 < 3 =\", 2 < 3)\r\n",
    "console.log(\"2 >= 3 =\", 2 >= 3)\r\n",
    "console.log(\"2 <= 3 =\", 2 <= 3)"
   ],
   "outputs": [
    {
     "output_type": "stream",
     "name": "stdout",
     "text": [
      "2 > 3 = false\n",
      "2 < 3 = true\n",
      "2 >= 3 = false\n",
      "2 <= 3 = true\n"
     ]
    }
   ],
   "metadata": {}
  },
  {
   "cell_type": "code",
   "execution_count": 2,
   "source": [
    "// simple equal comparisons\r\n",
    "console.log(\"2 == 3 =\", 2 == 3)\r\n",
    "console.log(\"2 === 3 =\", 2 === 3)\r\n",
    "console.log(\"3 == '3' =\", 3 == \"3\")\r\n",
    "console.log(\"3 === '3' =\", 3 === \"3\")\r\n",
    "console.log(\"3 === '3' =\", 3 === \"3\")\r\n",
    "console.log(\"'3' === '3' =\", \"3\" === \"3\")"
   ],
   "outputs": [
    {
     "output_type": "stream",
     "name": "stdout",
     "text": [
      "2 == 3 = false\n",
      "2 === 3 = false\n",
      "3 == '3' = true\n",
      "3 === '3' = false\n",
      "3 === '3' = false\n",
      "'3' === '3' = true\n"
     ]
    }
   ],
   "metadata": {}
  },
  {
   "cell_type": "code",
   "execution_count": 3,
   "source": [
    "// not a comparison\r\n",
    "var two = 3\r\n",
    "two = 5\r\n",
    "two == 3"
   ],
   "outputs": [
    {
     "output_type": "execute_result",
     "data": {
      "text/plain": [
       "false"
      ]
     },
     "metadata": {},
     "execution_count": 3
    }
   ],
   "metadata": {}
  },
  {
   "cell_type": "code",
   "execution_count": 4,
   "source": [
    "// comparing variables\r\n",
    "var number1 = 3\r\n",
    "var number2 = 6\r\n",
    "\r\n",
    "// numeric comparison\r\n",
    "console.log(number1 === number2)\r\n",
    "console.log(number1 <= number2)\r\n",
    "console.log(!(number1 !== number2))\r\n",
    "\r\n",
    "// floating comparison\r\n",
    "// caution: be careful comparing floating point values\r\n",
    "// as you might not get what you expect\r\n",
    "var float1 = 1.2345\r\n",
    "var float2 = 3.14159\r\n",
    "console.log(float1 === float2)\r\n",
    "console.log(float2 === Math.PI)\r\n",
    "console.log(1.00000000000001 === (1 + 0.00000000000001))\r\n",
    "\r\n",
    "// string comparison\r\n",
    "var string1 = \"abc\"\r\n",
    "var string2 = \"abd\"\r\n",
    "console.log(string1 === string2)\r\n",
    "console.log(string1 < string2)"
   ],
   "outputs": [
    {
     "output_type": "stream",
     "name": "stdout",
     "text": [
      "false\n",
      "true\n",
      "false\n",
      "false\n",
      "false\n",
      "true\n",
      "false\n",
      "true\n"
     ]
    }
   ],
   "metadata": {}
  },
  {
   "cell_type": "code",
   "execution_count": 5,
   "source": [
    "// a simple decision\r\n",
    "if (2 < 3) {\r\n",
    "    console.log(\"Yes! 2 < 3!\")\r\n",
    "}"
   ],
   "outputs": [
    {
     "output_type": "stream",
     "name": "stdout",
     "text": [
      "Yes! 2 < 3!\n"
     ]
    }
   ],
   "metadata": {}
  },
  {
   "cell_type": "code",
   "execution_count": 6,
   "source": [
    "// decision using variables\r\n",
    "var name = \"Bob\"\r\n",
    "if (name === \"Bob\") {\r\n",
    "    console.log(\"Hi! Bob!\")\r\n",
    "}"
   ],
   "outputs": [
    {
     "output_type": "stream",
     "name": "stdout",
     "text": [
      "Hi! Bob!\n"
     ]
    }
   ],
   "metadata": {}
  },
  {
   "cell_type": "code",
   "execution_count": 7,
   "source": [
    "// different formatting\r\n",
    "var name = \"Bob\"\r\n",
    "if( name === \"Bob\" ) console.log(\"Hi! Bob!\")\r\n",
    "\r\n",
    "// bad formatting\r\n",
    "if (name ===    \"Bob\" ) \r\n",
    "{       \r\n",
    "console.log(\"Hi! Bob!\") \r\n",
    "    }\r\n",
    "\r\n",
    "// good formatting\r\n",
    "if (name === \"Bob\") { // watch the position of \"whitespace\"\r\n",
    "    console.log(\"Hi! Bob!\") // indented 4 spaces\r\n",
    "}"
   ],
   "outputs": [
    {
     "output_type": "stream",
     "name": "stdout",
     "text": [
      "Hi! Bob!\n",
      "Hi! Bob!\n",
      "Hi! Bob!\n"
     ]
    }
   ],
   "metadata": {}
  },
  {
   "cell_type": "code",
   "execution_count": 5,
   "source": [
    "// if - else statement\r\n",
    "var number1 = 1\r\n",
    "if (number1 === 2)\r\n",
    "    console.log(\"1 = 2!\")\r\n",
    "else\r\n",
    "    console.log(\"1 != 2\")"
   ],
   "outputs": [
    {
     "output_type": "stream",
     "name": "stdout",
     "text": [
      "1 != 2\n"
     ]
    }
   ],
   "metadata": {}
  },
  {
   "cell_type": "code",
   "execution_count": 9,
   "source": [
    "// nested if statements\r\n",
    "var code = \"superAdministrat0r\"\r\n",
    "if (code === \"P@ssw0rd\") {\r\n",
    "    console.log(\"Welcome, user!\")\r\n",
    "} else {\r\n",
    "    if (code === \"admin1strator\") {\r\n",
    "        console.log(\"Welcome, lord!\")\r\n",
    "    } else {\r\n",
    "        if (code === \"superAdministrat0r\") {\r\n",
    "            console.log(\"All hail!\")\r\n",
    "        }\r\n",
    "    }\r\n",
    "}"
   ],
   "outputs": [
    {
     "output_type": "stream",
     "name": "stdout",
     "text": [
      "All hail!\n"
     ]
    }
   ],
   "metadata": {}
  },
  {
   "cell_type": "code",
   "execution_count": 10,
   "source": [
    "// nested if statements\r\n",
    "var code = \"superAdministrat0r\"\r\n",
    "if (code === \"P@ssw0rd\") {\r\n",
    "    console.log(\"Welcome, user!\")\r\n",
    "} else if (code === \"admin1strator\") {\r\n",
    "    console.log(\"Welcome, lord!\")\r\n",
    "} else if (code === \"superAdministrat0r\") {\r\n",
    "    console.log(\"All hail!\")\r\n",
    "} else {\r\n",
    "    console.log(\"Login failed.\")\r\n",
    "}"
   ],
   "outputs": [
    {
     "output_type": "stream",
     "name": "stdout",
     "text": [
      "All hail!\n"
     ]
    }
   ],
   "metadata": {}
  },
  {
   "cell_type": "code",
   "execution_count": 11,
   "source": [
    "// compound if statement\r\n",
    "var number1 = 123\r\n",
    "var name = \"John\"\r\n",
    "if (number1 === 123 && name === \"John\") {\r\n",
    "    console.log(\"AND!\")\r\n",
    "}\r\n",
    "if (number1 === 123 || name === \"John\") {\r\n",
    "    console.log(\"OR!\")\r\n",
    "}"
   ],
   "outputs": [
    {
     "output_type": "stream",
     "name": "stdout",
     "text": [
      "AND!\n",
      "OR!\n"
     ]
    }
   ],
   "metadata": {}
  },
  {
   "cell_type": "code",
   "execution_count": 12,
   "source": [
    "// a rather long example\r\n",
    "var number1 = 123\r\n",
    "var boolean1 = false\r\n",
    "var string1 = \"password\"\r\n",
    "var float1 = 3.1\r\n",
    "var character1 = 'x'\r\n",
    "if ((number1 === 123 && boolean1 === false) || \r\n",
    "    (string1 === \"password\" && float1 === 3.1 && character1 === 'x')) {\r\n",
    "    console.log(\"Wow...that's long!\")\r\n",
    "}"
   ],
   "outputs": [
    {
     "output_type": "stream",
     "name": "stdout",
     "text": [
      "Wow...that's long!\n"
     ]
    }
   ],
   "metadata": {}
  },
  {
   "cell_type": "code",
   "execution_count": null,
   "source": [],
   "outputs": [],
   "metadata": {}
  }
 ],
 "metadata": {
  "kernelspec": {
   "display_name": "Javascript (Node.js)",
   "language": "javascript",
   "name": "javascript"
  },
  "language_info": {
   "file_extension": ".js",
   "mimetype": "application/javascript",
   "name": "javascript",
   "version": "16.9.1"
  }
 },
 "nbformat": 4,
 "nbformat_minor": 5
}