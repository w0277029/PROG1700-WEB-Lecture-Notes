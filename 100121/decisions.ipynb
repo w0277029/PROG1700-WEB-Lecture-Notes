{
 "cells": [
  {
   "cell_type": "code",
   "execution_count": 1,
   "id": "7d0f5819-94e6-41ca-a1de-bb436f9a228a",
   "metadata": {},
   "outputs": [
    {
     "data": {
      "text/plain": [
       "true"
      ]
     },
     "execution_count": 1,
     "metadata": {},
     "output_type": "execute_result"
    }
   ],
   "source": [
    "true"
   ]
  },
  {
   "cell_type": "code",
   "execution_count": 2,
   "id": "673599d9-20e8-49c9-8c3e-2cce08792204",
   "metadata": {},
   "outputs": [
    {
     "data": {
      "text/plain": [
       "false"
      ]
     },
     "execution_count": 2,
     "metadata": {},
     "output_type": "execute_result"
    }
   ],
   "source": [
    "false"
   ]
  },
  {
   "cell_type": "code",
   "execution_count": 3,
   "id": "c209c342-5929-42d4-9809-f8f690609821",
   "metadata": {},
   "outputs": [
    {
     "name": "stdout",
     "output_type": "stream",
     "text": [
      "true\n"
     ]
    }
   ],
   "source": [
    "var myBoolean = true\n",
    "console.log(myBoolean)"
   ]
  },
  {
   "cell_type": "code",
   "execution_count": 4,
   "id": "0e7bb840-6169-4863-8eb0-a3add175bfa9",
   "metadata": {},
   "outputs": [],
   "source": [
    "// not a boolean\n",
    "var yesString = \"yes\"\n",
    "var noNumber = 1"
   ]
  },
  {
   "cell_type": "code",
   "execution_count": 1,
   "id": "4c34dcdd-6d99-4986-aa5d-03d8ed5871d4",
   "metadata": {},
   "outputs": [
    {
     "name": "stdout",
     "output_type": "stream",
     "text": [
      "2 > 3 = false\n",
      "2 < 3 = true\n",
      "2 >= 3 = false\n",
      "2 <= 3 = true\n"
     ]
    }
   ],
   "source": [
    "// simple expressions\n",
    "console.log(\"2 > 3 =\", 2 > 3)\n",
    "console.log(\"2 < 3 =\", 2 < 3)\n",
    "console.log(\"2 >= 3 =\", 2 >= 3)\n",
    "console.log(\"2 <= 3 =\", 2 <= 3)"
   ]
  },
  {
   "cell_type": "code",
   "execution_count": 2,
   "id": "dc86fefe-bfed-400d-afe1-3215c98f1d3a",
   "metadata": {},
   "outputs": [
    {
     "name": "stdout",
     "output_type": "stream",
     "text": [
      "2 == 3 = false\n",
      "2 === 3 = false\n",
      "3 == '3' = true\n",
      "3 === '3' = false\n",
      "3 === '3' = false\n",
      "'3' === '3' = true\n"
     ]
    }
   ],
   "source": [
    "// simple equal comparisons\n",
    "console.log(\"2 == 3 =\", 2 == 3)\n",
    "console.log(\"2 === 3 =\", 2 === 3)\n",
    "console.log(\"3 == '3' =\", 3 == \"3\")\n",
    "console.log(\"3 === '3' =\", 3 === \"3\")\n",
    "console.log(\"3 === '3' =\", 3 === \"3\")\n",
    "console.log(\"'3' === '3' =\", \"3\" === \"3\")"
   ]
  },
  {
   "cell_type": "code",
   "execution_count": 3,
   "id": "9199462c-5205-4c62-b2ac-8267f2d71c84",
   "metadata": {},
   "outputs": [
    {
     "data": {
      "text/plain": [
       "false"
      ]
     },
     "execution_count": 3,
     "metadata": {},
     "output_type": "execute_result"
    }
   ],
   "source": [
    "// not a comparison\n",
    "var two = 3\n",
    "two = 5\n",
    "two == 3"
   ]
  },
  {
   "cell_type": "code",
   "execution_count": 4,
   "id": "d9937107-aa84-4123-b502-740eb3e64d71",
   "metadata": {},
   "outputs": [
    {
     "name": "stdout",
     "output_type": "stream",
     "text": [
      "false\n",
      "true\n",
      "false\n",
      "false\n",
      "false\n",
      "true\n",
      "false\n",
      "true\n"
     ]
    }
   ],
   "source": [
    "// comparing variables\n",
    "var number1 = 3\n",
    "var number2 = 6\n",
    "\n",
    "// numeric comparison\n",
    "console.log(number1 === number2)\n",
    "console.log(number1 <= number2)\n",
    "console.log(!(number1 !== number2))\n",
    "\n",
    "// floating comparison\n",
    "// caution: be careful comparing floating point values\n",
    "// as you might not get what you expect\n",
    "var float1 = 1.2345\n",
    "var float2 = 3.14159\n",
    "console.log(float1 === float2)\n",
    "console.log(float2 === Math.PI)\n",
    "console.log(1.00000000000001 === (1 + 0.00000000000001))\n",
    "\n",
    "// string comparison\n",
    "var string1 = \"abc\"\n",
    "var string2 = \"abd\"\n",
    "console.log(string1 === string2)\n",
    "console.log(string1 < string2)"
   ]
  },
  {
   "cell_type": "code",
   "execution_count": 5,
   "id": "21c79195-36b8-4c39-8802-c71e51a4e3e1",
   "metadata": {},
   "outputs": [
    {
     "name": "stdout",
     "output_type": "stream",
     "text": [
      "Yes! 2 < 3!\n"
     ]
    }
   ],
   "source": [
    "// a simple decision\n",
    "if (2 < 3) {\n",
    "    console.log(\"Yes! 2 < 3!\")\n",
    "}"
   ]
  },
  {
   "cell_type": "code",
   "execution_count": 6,
   "id": "96e6c41b-e13a-4ee6-97ed-a15c502422a2",
   "metadata": {},
   "outputs": [
    {
     "name": "stdout",
     "output_type": "stream",
     "text": [
      "Hi! Bob!\n"
     ]
    }
   ],
   "source": [
    "// decision using variables\n",
    "var name = \"Bob\"\n",
    "if (name === \"Bob\") {\n",
    "    console.log(\"Hi! Bob!\")\n",
    "}"
   ]
  },
  {
   "cell_type": "code",
   "execution_count": 7,
   "id": "9fbaf84e-e20e-4a94-8a25-880fe298b340",
   "metadata": {},
   "outputs": [
    {
     "name": "stdout",
     "output_type": "stream",
     "text": [
      "Hi! Bob!\n",
      "Hi! Bob!\n",
      "Hi! Bob!\n"
     ]
    }
   ],
   "source": [
    "// different formatting\n",
    "var name = \"Bob\"\n",
    "if( name === \"Bob\" ) console.log(\"Hi! Bob!\")\n",
    "\n",
    "// bad formatting\n",
    "if (name ===    \"Bob\" ) \n",
    "{       \n",
    "console.log(\"Hi! Bob!\") \n",
    "    }\n",
    "\n",
    "// good formatting\n",
    "if (name === \"Bob\") { // watch the position of \"whitespace\"\n",
    "    console.log(\"Hi! Bob!\") // indented 4 spaces\n",
    "}"
   ]
  },
  {
   "cell_type": "code",
   "execution_count": 8,
   "id": "b99f3ffe-611f-4a6a-9b99-5582f41e624a",
   "metadata": {},
   "outputs": [
    {
     "name": "stdout",
     "output_type": "stream",
     "text": [
      "1 != 2\n"
     ]
    }
   ],
   "source": [
    "// if - else statement\n",
    "var number1 = 1\n",
    "if (number1 === 2)\n",
    "    console.log(\"1 = 2!\")\n",
    "else\n",
    "    console.log(\"1 != 2\")"
   ]
  },
  {
   "cell_type": "code",
   "execution_count": 9,
   "id": "691f6f34-8421-456d-942d-8d29e5e1f2c1",
   "metadata": {},
   "outputs": [
    {
     "name": "stdout",
     "output_type": "stream",
     "text": [
      "All hail!\n"
     ]
    }
   ],
   "source": [
    "// nested if statements\n",
    "var code = \"superAdministrat0r\"\n",
    "if (code === \"P@ssw0rd\") {\n",
    "    console.log(\"Welcome, user!\")\n",
    "} else {\n",
    "    if (code === \"admin1strator\") {\n",
    "        console.log(\"Welcome, lord!\")\n",
    "    } else {\n",
    "        if (code === \"superAdministrat0r\") {\n",
    "            console.log(\"All hail!\")\n",
    "        }\n",
    "    }\n",
    "}"
   ]
  },
  {
   "cell_type": "code",
   "execution_count": 10,
   "id": "c0d90427-f00f-43ec-b79e-da61f5699baa",
   "metadata": {},
   "outputs": [
    {
     "name": "stdout",
     "output_type": "stream",
     "text": [
      "All hail!\n"
     ]
    }
   ],
   "source": [
    "// nested if statements\n",
    "var code = \"superAdministrat0r\"\n",
    "if (code === \"P@ssw0rd\") {\n",
    "    console.log(\"Welcome, user!\")\n",
    "} else if (code === \"admin1strator\") {\n",
    "    console.log(\"Welcome, lord!\")\n",
    "} else if (code === \"superAdministrat0r\") {\n",
    "    console.log(\"All hail!\")\n",
    "} else {\n",
    "    console.log(\"Login failed.\")\n",
    "}"
   ]
  },
  {
   "cell_type": "code",
   "execution_count": 11,
   "id": "9dd0457b-016c-4496-a2f7-0cd25cff04ef",
   "metadata": {},
   "outputs": [
    {
     "name": "stdout",
     "output_type": "stream",
     "text": [
      "AND!\n",
      "OR!\n"
     ]
    }
   ],
   "source": [
    "// compound if statement\n",
    "var number1 = 123\n",
    "var name = \"John\"\n",
    "if (number1 === 123 && name === \"John\") {\n",
    "    console.log(\"AND!\")\n",
    "}\n",
    "if (number1 === 123 || name === \"John\") {\n",
    "    console.log(\"OR!\")\n",
    "}"
   ]
  },
  {
   "cell_type": "code",
   "execution_count": 12,
   "id": "c88e07b5-5b9f-4d2f-a1c9-a7a4cdd97016",
   "metadata": {},
   "outputs": [
    {
     "name": "stdout",
     "output_type": "stream",
     "text": [
      "Wow...that's long!\n"
     ]
    }
   ],
   "source": [
    "// a rather long example\n",
    "var number1 = 123\n",
    "var boolean1 = false\n",
    "var string1 = \"password\"\n",
    "var float1 = 3.1\n",
    "var character1 = 'x'\n",
    "if ((number1 === 123 && boolean1 === false) || \n",
    "    (string1 === \"password\" && float1 === 3.1 && character1 === 'x')) {\n",
    "    console.log(\"Wow...that's long!\")\n",
    "}"
   ]
  },
  {
   "cell_type": "code",
   "execution_count": null,
   "id": "ae2b946c-0f0e-486b-8dd7-c092cf60a4d6",
   "metadata": {},
   "outputs": [],
   "source": []
  }
 ],
 "metadata": {
  "kernelspec": {
   "display_name": "Javascript (Node.js)",
   "language": "javascript",
   "name": "javascript"
  },
  "language_info": {
   "file_extension": ".js",
   "mimetype": "application/javascript",
   "name": "javascript",
   "version": "16.9.1"
  }
 },
 "nbformat": 4,
 "nbformat_minor": 5
}
