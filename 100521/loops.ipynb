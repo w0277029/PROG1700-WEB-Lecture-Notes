{
 "cells": [
  {
   "cell_type": "code",
   "execution_count": 4,
   "source": [
    "var num = 5\r\n",
    "while (num < 10) {\r\n",
    "    console.log(num)\r\n",
    "    num = num + 1\r\n",
    "}"
   ],
   "outputs": [
    {
     "output_type": "stream",
     "name": "stdout",
     "text": [
      "5\n",
      "6\n",
      "7\n",
      "8\n",
      "9\n"
     ]
    },
    {
     "output_type": "execute_result",
     "data": {
      "text/plain": [
       "10"
      ]
     },
     "metadata": {},
     "execution_count": 4
    }
   ],
   "metadata": {}
  },
  {
   "cell_type": "code",
   "execution_count": 2,
   "source": [
    "var num = 5\r\n",
    "while (num < 10) {\r\n",
    "    num = num + 1\r\n",
    "}"
   ],
   "outputs": [
    {
     "output_type": "execute_result",
     "data": {
      "text/plain": [
       "10"
      ]
     },
     "metadata": {},
     "execution_count": 2
    }
   ],
   "metadata": {}
  },
  {
   "cell_type": "code",
   "execution_count": null,
   "source": [
    "// ask a user for their password\r\n",
    "var password = \"\"\r\n",
    "while (password === \"\") {\r\n",
    "    password = prompt(\"Enter a password: \")\r\n",
    "}\r\n",
    "console.log(\"Yeah! You finally typed it in!\")"
   ],
   "outputs": [],
   "metadata": {}
  },
  {
   "cell_type": "code",
   "execution_count": null,
   "source": [
    "// ask the user to type in numbers until they are done\r\n",
    "var num = 0\r\n",
    "var end = \"\"\r\n",
    "while (end != \"Y\") {\r\n",
    "    num = prompt(\"Enter a number: \")\r\n",
    "    var end = prompt(\"Enter 'Y' to end.\")\r\n",
    "}"
   ],
   "outputs": [],
   "metadata": {}
  },
  {
   "cell_type": "code",
   "execution_count": 7,
   "source": [
    "// variable scope\r\n",
    "var globalVariable = \"global\"\r\n",
    "if (globalVariable === \"global\") {\r\n",
    "    var localVariable = \"local\"\r\n",
    "}\r\n",
    "\r\n",
    "console.log(globalVariable)\r\n",
    "console.log(localVariable)"
   ],
   "outputs": [
    {
     "output_type": "stream",
     "name": "stdout",
     "text": [
      "global\n",
      "local is now global\n"
     ]
    }
   ],
   "metadata": {}
  },
  {
   "cell_type": "code",
   "execution_count": 4,
   "source": [
    "// other ways to declare variables\r\n",
    "var name = \"john\"\r\n",
    "var num = 1\r\n",
    "var PI = 3.14159\r\n",
    "let num = 2\r\n",
    "const PI = 3.14159"
   ],
   "outputs": [
    {
     "output_type": "error",
     "ename": "SyntaxError",
     "evalue": "Identifier 'num' has already been declared",
     "traceback": [
      "evalmachine.<anonymous>:5",
      "let num = 2",
      "    ^",
      "",
      "SyntaxError: Identifier 'num' has already been declared",
      "    at new Script (node:vm:100:7)",
      "    at createScript (node:vm:257:10)",
      "    at Object.runInThisContext (node:vm:305:10)",
      "    at run ([eval]:1054:15)",
      "    at onRunRequest ([eval]:888:18)",
      "    at onMessage ([eval]:848:13)",
      "    at process.emit (node:events:394:28)",
      "    at emit (node:internal/child_process:917:12)",
      "    at processTicksAndRejections (node:internal/process/task_queues:84:21)"
     ]
    }
   ],
   "metadata": {}
  },
  {
   "cell_type": "code",
   "execution_count": 9,
   "source": [
    "let name = \"john\"\r\n",
    "console.log(name)"
   ],
   "outputs": [
    {
     "output_type": "error",
     "ename": "SyntaxError",
     "evalue": "Identifier 'name' has already been declared",
     "traceback": [
      "evalmachine.<anonymous>:1",
      "let name = \"john\"",
      "^",
      "",
      "SyntaxError: Identifier 'name' has already been declared",
      "    at Script.runInThisContext (node:vm:129:12)",
      "    at Object.runInThisContext (node:vm:305:38)",
      "    at run ([eval]:1054:15)",
      "    at onRunRequest ([eval]:888:18)",
      "    at onMessage ([eval]:848:13)",
      "    at process.emit (node:events:394:28)",
      "    at emit (node:internal/child_process:917:12)",
      "    at processTicksAndRejections (node:internal/process/task_queues:84:21)"
     ]
    }
   ],
   "metadata": {}
  },
  {
   "cell_type": "code",
   "execution_count": 10,
   "source": [
    "// for loop\r\n",
    "for (var num = 0; num < 5; num = num + 1) {\r\n",
    "    console.log(num)\r\n",
    "}"
   ],
   "outputs": [
    {
     "output_type": "stream",
     "name": "stdout",
     "text": [
      "0\n",
      "1\n",
      "2\n",
      "3\n",
      "4\n"
     ]
    }
   ],
   "metadata": {}
  },
  {
   "cell_type": "code",
   "execution_count": 12,
   "source": [
    "for (var num = 0; num < 5; num += 1) {\r\n",
    "    console.log(num)\r\n",
    "}"
   ],
   "outputs": [
    {
     "output_type": "stream",
     "name": "stdout",
     "text": [
      "0\n",
      "1\n",
      "2\n",
      "3\n",
      "4\n"
     ]
    }
   ],
   "metadata": {}
  },
  {
   "cell_type": "code",
   "execution_count": 13,
   "source": [
    "for (var i = 0; i < 5; i++) {\r\n",
    "    console.log(i)\r\n",
    "}"
   ],
   "outputs": [
    {
     "output_type": "stream",
     "name": "stdout",
     "text": [
      "0\n",
      "1\n",
      "2\n",
      "3\n",
      "4\n"
     ]
    }
   ],
   "metadata": {}
  },
  {
   "cell_type": "code",
   "execution_count": 14,
   "source": [
    "newNumber = 12345"
   ],
   "outputs": [
    {
     "output_type": "execute_result",
     "data": {
      "text/plain": [
       "12345"
      ]
     },
     "metadata": {},
     "execution_count": 14
    }
   ],
   "metadata": {}
  },
  {
   "cell_type": "code",
   "execution_count": 16,
   "source": [
    "var i = 3\r\n",
    "for (; i < 5; i++) {\r\n",
    "    console.log(i)\r\n",
    "}"
   ],
   "outputs": [
    {
     "output_type": "stream",
     "name": "stdout",
     "text": [
      "3\n",
      "4\n"
     ]
    }
   ],
   "metadata": {}
  },
  {
   "cell_type": "code",
   "execution_count": 17,
   "source": [
    "var i = 3\r\n",
    "for (; i < 5;) {\r\n",
    "    console.log(++i)\r\n",
    "}"
   ],
   "outputs": [
    {
     "output_type": "stream",
     "name": "stdout",
     "text": [
      "4\n",
      "5\n"
     ]
    }
   ],
   "metadata": {}
  },
  {
   "cell_type": "code",
   "execution_count": 2,
   "source": [
    "for (var num = 1; num <= 16; num *= 2) {\r\n",
    "    console.log(num)\r\n",
    "}"
   ],
   "outputs": [
    {
     "output_type": "stream",
     "name": "stdout",
     "text": [
      "1\n",
      "2\n",
      "4\n",
      "8\n",
      "16\n"
     ]
    }
   ],
   "metadata": {}
  },
  {
   "cell_type": "code",
   "execution_count": 3,
   "source": [
    "// break exits the loop early\r\n",
    "var num = 0\r\n",
    "while (num < 5) {\r\n",
    "    if (++num === 3) {\r\n",
    "        continue\r\n",
    "    }\r\n",
    "    console.log(num)\r\n",
    "}"
   ],
   "outputs": [
    {
     "output_type": "stream",
     "name": "stdout",
     "text": [
      "1\n",
      "2\n",
      "4\n",
      "5\n"
     ]
    }
   ],
   "metadata": {}
  },
  {
   "cell_type": "code",
   "execution_count": 4,
   "source": [
    "// crappy graphics example\r\n",
    "// draw a right-angle triangle\r\n",
    "\r\n",
    "//     o\r\n",
    "//    oo\r\n",
    "//   ooo\r\n",
    "//  oooo\r\n",
    "// ooooo\r\n",
    "//oooooo\r\n",
    "\r\n",
    "for (var i = 1; i <= 6; i++) {\r\n",
    "    console.log(\" \".repeat(6 - i) + \"o\".repeat(i))\r\n",
    "}"
   ],
   "outputs": [
    {
     "output_type": "stream",
     "name": "stdout",
     "text": [
      "     o\n",
      "    oo\n",
      "   ooo\n",
      "  oooo\n",
      " ooooo\n",
      "oooooo\n"
     ]
    }
   ],
   "metadata": {}
  },
  {
   "cell_type": "code",
   "execution_count": null,
   "source": [],
   "outputs": [],
   "metadata": {}
  }
 ],
 "metadata": {
  "kernelspec": {
   "display_name": "Javascript (Node.js)",
   "language": "javascript",
   "name": "javascript"
  },
  "language_info": {
   "file_extension": ".js",
   "mimetype": "application/javascript",
   "name": "javascript",
   "version": "16.9.1"
  }
 },
 "nbformat": 4,
 "nbformat_minor": 5
}