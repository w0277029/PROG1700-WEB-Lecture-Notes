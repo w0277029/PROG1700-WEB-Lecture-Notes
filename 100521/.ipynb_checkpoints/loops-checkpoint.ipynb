{
 "cells": [
  {
   "cell_type": "code",
   "execution_count": 4,
   "id": "b8bbe28d-4406-46de-a627-a039f26677ef",
   "metadata": {},
   "outputs": [
    {
     "name": "stdout",
     "output_type": "stream",
     "text": [
      "5\n",
      "6\n",
      "7\n",
      "8\n",
      "9\n"
     ]
    },
    {
     "data": {
      "text/plain": [
       "10"
      ]
     },
     "execution_count": 4,
     "metadata": {},
     "output_type": "execute_result"
    }
   ],
   "source": [
    "var num = 5\n",
    "while (num < 10) {\n",
    "    console.log(num)\n",
    "    num = num + 1\n",
    "}"
   ]
  },
  {
   "cell_type": "code",
   "execution_count": 2,
   "id": "c460248c-746a-4912-b06f-683ed5182f56",
   "metadata": {},
   "outputs": [
    {
     "data": {
      "text/plain": [
       "10"
      ]
     },
     "execution_count": 2,
     "metadata": {},
     "output_type": "execute_result"
    }
   ],
   "source": [
    "var num = 5\n",
    "while (num < 10) {\n",
    "    num = num + 1\n",
    "}"
   ]
  },
  {
   "cell_type": "code",
   "execution_count": null,
   "id": "82edd33e-3e09-477f-a47f-05cb292cf498",
   "metadata": {},
   "outputs": [],
   "source": [
    "// ask a user for their password\n",
    "var password = \"\"\n",
    "while (password === \"\") {\n",
    "    password = prompt(\"Enter a password: \")\n",
    "}\n",
    "console.log(\"Yeah! You finally typed it in!\")"
   ]
  }
 ],
 "metadata": {
  "kernelspec": {
   "display_name": "Javascript (Node.js)",
   "language": "javascript",
   "name": "javascript"
  },
  "language_info": {
   "file_extension": ".js",
   "mimetype": "application/javascript",
   "name": "javascript",
   "version": "16.9.1"
  }
 },
 "nbformat": 4,
 "nbformat_minor": 5
}
