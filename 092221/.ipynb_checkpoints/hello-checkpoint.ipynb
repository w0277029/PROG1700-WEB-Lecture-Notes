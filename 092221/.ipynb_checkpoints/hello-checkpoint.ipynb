{
 "cells": [
  {
   "cell_type": "code",
   "execution_count": 1,
   "source": [
    "console.log(\"Hello World!\")"
   ],
   "outputs": [
    {
     "output_type": "stream",
     "name": "stdout",
     "text": [
      "Hello World!\n"
     ]
    }
   ],
   "metadata": {}
  },
  {
   "cell_type": "code",
   "execution_count": 2,
   "source": [
    "var myName = \"Matt\""
   ],
   "outputs": [],
   "metadata": {}
  },
  {
   "cell_type": "code",
   "execution_count": 3,
   "source": [
    "console.log(\"Hello,\" ,myName)"
   ],
   "outputs": [
    {
     "output_type": "stream",
     "name": "stdout",
     "text": [
      "Hello, Matt\n"
     ]
    }
   ],
   "metadata": {}
  },
  {
   "cell_type": "code",
   "execution_count": 2,
   "source": [
    "// modulus division (i.e. the remainder of a long division)\r\n",
    "5 % 2"
   ],
   "outputs": [
    {
     "output_type": "execute_result",
     "data": {
      "text/plain": [
       "1"
      ]
     },
     "metadata": {},
     "execution_count": 2
    }
   ],
   "metadata": {}
  },
  {
   "cell_type": "code",
   "execution_count": 1,
   "source": [
    "/*\r\n",
    "    how to create an exponent in JavaScript\r\n",
    "*/\r\n",
    "5 ** 2"
   ],
   "outputs": [
    {
     "output_type": "execute_result",
     "data": {
      "text/plain": [
       "25"
      ]
     },
     "metadata": {},
     "execution_count": 1
    }
   ],
   "metadata": {}
  },
  {
   "cell_type": "code",
   "execution_count": 2,
   "source": [
    "/*division*/\r\n",
    "console.log(5 / 2)"
   ],
   "outputs": [
    {
     "output_type": "stream",
     "name": "stdout",
     "text": [
      "2.5\n"
     ]
    }
   ],
   "metadata": {}
  },
  {
   "cell_type": "code",
   "execution_count": 3,
   "source": [
    "//floor - removes decimal\r\n",
    "Math.floor(5 / 2)"
   ],
   "outputs": [
    {
     "output_type": "execute_result",
     "data": {
      "text/plain": [
       "2"
      ]
     },
     "metadata": {},
     "execution_count": 3
    }
   ],
   "metadata": {}
  },
  {
   "cell_type": "code",
   "execution_count": 5,
   "source": [
    "//PI\r\n",
    "Math.PI"
   ],
   "outputs": [
    {
     "output_type": "execute_result",
     "data": {
      "text/plain": [
       "3.141592653589793"
      ]
     },
     "metadata": {},
     "execution_count": 5
    }
   ],
   "metadata": {}
  },
  {
   "cell_type": "code",
   "execution_count": 6,
   "source": [
    "//square roots\r\n",
    "Math.sqrt(25)"
   ],
   "outputs": [
    {
     "output_type": "execute_result",
     "data": {
      "text/plain": [
       "5"
      ]
     },
     "metadata": {},
     "execution_count": 6
    }
   ],
   "metadata": {}
  },
  {
   "cell_type": "code",
   "execution_count": 7,
   "source": [
    "//another way to do exponents\r\n",
    "Math.pow(2, 3)"
   ],
   "outputs": [
    {
     "output_type": "execute_result",
     "data": {
      "text/plain": [
       "8"
      ]
     },
     "metadata": {},
     "execution_count": 7
    }
   ],
   "metadata": {}
  },
  {
   "cell_type": "code",
   "execution_count": 8,
   "source": [
    "// remove some decimal points\r\n",
    "Math.PI.toFixed(5)"
   ],
   "outputs": [
    {
     "output_type": "execute_result",
     "data": {
      "text/plain": [
       "'3.14159'"
      ]
     },
     "metadata": {},
     "execution_count": 8
    }
   ],
   "metadata": {}
  },
  {
   "cell_type": "code",
   "execution_count": 10,
   "source": [
    "// hexadecimal\r\n",
    "var hex = 0x1234\r\n",
    "var dec = 1234\r\n",
    "console.log(hex, dec, hex.toString(2))"
   ],
   "outputs": [
    {
     "output_type": "stream",
     "name": "stdout",
     "text": [
      "4660 1234 1001000110100\n"
     ]
    }
   ],
   "metadata": {}
  },
  {
   "cell_type": "code",
   "execution_count": 11,
   "source": [
    "// different data types\r\n",
    "2 + \"8\""
   ],
   "outputs": [
    {
     "output_type": "execute_result",
     "data": {
      "text/plain": [
       "'28'"
      ]
     },
     "metadata": {},
     "execution_count": 11
    }
   ],
   "metadata": {}
  },
  {
   "cell_type": "code",
   "execution_count": 12,
   "source": [
    "// string concatenation\r\n",
    "\"Hello, \" + \"Everyone\""
   ],
   "outputs": [
    {
     "output_type": "execute_result",
     "data": {
      "text/plain": [
       "'Hello, Everyone'"
      ]
     },
     "metadata": {},
     "execution_count": 12
    }
   ],
   "metadata": {}
  },
  {
   "cell_type": "code",
   "execution_count": 18,
   "source": [
    "// different uses of console.log\r\n",
    "\r\n",
    "// simple text\r\n",
    "console.log(\"Some Text\")\r\n",
    "\r\n",
    "// simple variable\r\n",
    "var num = 12345\r\n",
    "console.log(num)\r\n",
    "\r\n",
    "// multiple items\r\n",
    "console.log(\"Some Text\", num, \"Some More Text\", 55)\r\n",
    "\r\n",
    "// variable substitution\r\n",
    "console.log(\"num = %i\", num)\r\n",
    "\r\n",
    "var firstName = \"Bob\"\r\n",
    "var lastName = \"Jones\"\r\n",
    "var studentID = \"W123456\"\r\n",
    "console.log(\"Name: %s %s, ID: %s\", firstName, lastName, studentID)\r\n"
   ],
   "outputs": [
    {
     "output_type": "stream",
     "name": "stdout",
     "text": [
      "Some Text\n",
      "12345\n",
      "Some Text 12345 Some More Text 55\n",
      "num = 12345\n",
      "Name: Bob Jones, ID: W123456\n"
     ]
    }
   ],
   "metadata": {}
  },
  {
   "cell_type": "code",
   "execution_count": 17,
   "source": [
    "// question: are variables case sensitive?\r\n",
    "var apple = \"red\"\r\n",
    "var Apple = \"green\"\r\n",
    "console.log(apple, Apple)"
   ],
   "outputs": [
    {
     "output_type": "stream",
     "name": "stdout",
     "text": [
      "red green\n"
     ]
    }
   ],
   "metadata": {}
  },
  {
   "cell_type": "code",
   "execution_count": 1,
   "source": [
    "// newer variable substitution\r\n",
    "var firstName = \"Bob\"\r\n",
    "var lastName = \"Jones\"\r\n",
    "var studentID = \"W123456\"\r\n",
    "console.log(`Name: ${firstName} ${lastName}, ID: ${studentID}`)"
   ],
   "outputs": [
    {
     "output_type": "stream",
     "name": "stdout",
     "text": [
      "Name: Bob Jones, ID: W123456\n"
     ]
    }
   ],
   "metadata": {}
  },
  {
   "cell_type": "code",
   "execution_count": 21,
   "source": [
    "// repeat characters\r\n",
    "\"-*-\".repeat(10)"
   ],
   "outputs": [
    {
     "output_type": "execute_result",
     "data": {
      "text/plain": [
       "'-*--*--*--*--*--*--*--*--*--*-'"
      ]
     },
     "metadata": {},
     "execution_count": 21
    }
   ],
   "metadata": {}
  },
  {
   "cell_type": "code",
   "execution_count": 2,
   "source": [
    "// Question: Determine the Y coordinate for the formula y = mx + b\r\n",
    "var m = -4\r\n",
    "var b = 6\r\n",
    "\r\n",
    "// assume x = 0\r\n",
    "var y = m * 0 + b\r\n",
    "\r\n",
    "// print the answer\r\n",
    "console.log(`For y = ${m}x + ${b}, the line crossed the Y-axis at y = ${y}.`)"
   ],
   "outputs": [
    {
     "output_type": "stream",
     "name": "stdout",
     "text": [
      "For y = -4x + 6, the line crossed the Y-axis at y = 6.\n"
     ]
    }
   ],
   "metadata": {}
  },
  {
   "cell_type": "code",
   "execution_count": null,
   "source": [],
   "outputs": [],
   "metadata": {}
  }
 ],
 "metadata": {
  "kernelspec": {
   "display_name": "Javascript (Node.js)",
   "language": "javascript",
   "name": "javascript"
  },
  "language_info": {
   "file_extension": ".js",
   "mimetype": "application/javascript",
   "name": "javascript",
   "version": "16.9.1"
  }
 },
 "nbformat": 4,
 "nbformat_minor": 4
}