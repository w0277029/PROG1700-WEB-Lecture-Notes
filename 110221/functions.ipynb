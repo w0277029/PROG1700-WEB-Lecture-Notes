{
 "cells": [
  {
   "cell_type": "code",
   "execution_count": 2,
   "metadata": {},
   "outputs": [
    {
     "name": "stdout",
     "output_type": "stream",
     "text": [
      "Hello World!\n",
      "Hello World!\n"
     ]
    }
   ],
   "source": [
    "// simple function\n",
    "function printHelloWorld() {\n",
    "    console.log(\"Hello World!\");\n",
    "}\n",
    "printHelloWorld();\n",
    "printHelloWorld();"
   ]
  },
  {
   "cell_type": "code",
   "execution_count": 3,
   "metadata": {},
   "outputs": [
    {
     "name": "stdout",
     "output_type": "stream",
     "text": [
      "Hello, World!\n"
     ]
    }
   ],
   "source": [
    "// parameters\n",
    "function helloWord( greeting, word ) {\n",
    "    word = word + \"!\"\n",
    "    console.log(`${greeting}, ${word}`);\n",
    "}\n",
    "helloWord( \"Hello\", \"World\" );"
   ]
  },
  {
   "cell_type": "code",
   "execution_count": 2,
   "metadata": {},
   "outputs": [
    {
     "name": "stdout",
     "output_type": "stream",
     "text": [
      "3\n"
     ]
    }
   ],
   "source": [
    "// return values\n",
    "function sum (a, b ) {\n",
    "    var c = a + b;\n",
    "    return c\n",
    "}\n",
    "var answer = sum( 1, 2 )\n",
    "console.log(answer);"
   ]
  },
  {
   "cell_type": "code",
   "execution_count": 2,
   "metadata": {},
   "outputs": [
    {
     "name": "stdout",
     "output_type": "stream",
     "text": [
      "sum = undefined, diff = undefined, product = undefined, div = undefined\n",
      "sum = 3, diff = -1, product = 2, div = 0.5\n",
      "sum = 5, product = 6\n"
     ]
    }
   ],
   "source": [
    "// return mulitple values via objects\n",
    "function doMath( a, b ) {\n",
    "    var sum = a + b\n",
    "    var diff = a - b\n",
    "    var prod = a * b\n",
    "    var div = a / b\n",
    "    return {sum: sum, diff: diff, prod: prod, div: div}\n",
    "}\n",
    "var {s, d, p, d} = doMath( 1, 2 )\n",
    "console.log(`sum = ${s}, diff = ${d}, product = ${p}, div = ${d}`)\n",
    "var {sum, diff, prod, div} = doMath( 1, 2 )\n",
    "console.log(`sum = ${sum}, diff = ${diff}, product = ${prod}, div = ${div}`)\n",
    "var {sum, prod} = doMath( 2, 3 )\n",
    "console.log(`sum = ${sum}, product = ${prod}`)"
   ]
  },
  {
   "cell_type": "code",
   "execution_count": 3,
   "metadata": {},
   "outputs": [
    {
     "data": {
      "text/plain": [
       "25"
      ]
     },
     "execution_count": 3,
     "metadata": {},
     "output_type": "execute_result"
    }
   ],
   "source": [
    "// function expressions\n",
    "var square = function (number) {\n",
    "\treturn number * number;\n",
    "}\n",
    "var answer = square(5);\n",
    "answer"
   ]
  }
 ],
 "metadata": {
  "kernelspec": {
   "display_name": "Javascript (Node.js)",
   "language": "javascript",
   "name": "javascript"
  },
  "language_info": {
   "file_extension": ".js",
   "mimetype": "application/javascript",
   "name": "javascript",
   "version": "17.0.1"
  },
  "orig_nbformat": 4
 },
 "nbformat": 4,
 "nbformat_minor": 2
}
